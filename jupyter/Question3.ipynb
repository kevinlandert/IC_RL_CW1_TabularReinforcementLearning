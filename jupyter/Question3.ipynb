{
 "cells": [
  {
   "cell_type": "code",
   "execution_count": 1,
   "metadata": {},
   "outputs": [],
   "source": [
    "import numpy as np\n",
    "import random\n",
    "import matplotlib.pyplot as plt\n",
    "import math"
   ]
  },
  {
   "cell_type": "code",
   "execution_count": 115,
   "metadata": {},
   "outputs": [],
   "source": [
    "class GridWorld(object):\n",
    "    \n",
    "    def __init__(self,p = 0.65):\n",
    "        \n",
    "        ### Attributes defining the Gridworld #######\n",
    "\n",
    "        # Shape of the gridworld\n",
    "        self.shape = (6,6)\n",
    "        \n",
    "        # Locations of the obstacles\n",
    "        self.obstacle_locs = [(1,1),(2,3),(2,5),(3,1),(4,1),(4,2),(4,4)]\n",
    "        \n",
    "        # Locations for the absorbing states\n",
    "        self.absorbing_locs = [(1,3),(4,3)]\n",
    "        \n",
    "        # Rewards for each of the absorbing states \n",
    "        self.special_rewards = [+10,-100] # Corresponds to each of the absorbing_locs\n",
    "        \n",
    "        # Reward for all the other states\n",
    "        self.default_reward = -1\n",
    "        \n",
    "        \n",
    "        # Action names\n",
    "        self.action_names = ['N','E','S','W'] # Action 0 is 'N', 1 is 'E' and so on\n",
    "        \n",
    "        # Number of actions\n",
    "        self.action_size = len(self.action_names)\n",
    "        \n",
    "        # Randomizing action results: [1 0 0 0] to no Noise in the action results.\n",
    "        self.action_randomizing_array = [p,(1-p)/3,(1-p)/3,(1-p)/3]\n",
    "        \n",
    "        #Get attributes defining the world\n",
    "        state_size, T, R, absorbing, locs = self.build_grid_world()\n",
    "        \n",
    "        #Number of valid states in the world\n",
    "        self.state_size = state_size\n",
    "        \n",
    "        \n",
    "        # Transition operator (3D tensor)\n",
    "        self.T = T # T[st+1, st, a] gives the probability that action a will \n",
    "                   # transition state st to state st+1\n",
    "        \n",
    "        # Reward function (3D tensor)\n",
    "        self.R = R # R[st+1, st, a ] gives the reward for transitioning to state\n",
    "                   # st+1 from state st with action a\n",
    "        \n",
    "        # Absorbing states\n",
    "        self.absorbing = absorbing\n",
    "        \n",
    "        # The locations of the valid states \n",
    "        self.locs = locs # State 0 is at the location self.locs[0] and so on\n",
    "        \n",
    "        # Starting location\n",
    "        #TODO: randomize this\n",
    "        self.starting_loc =  self.get_random_start()\n",
    "        \n",
    "        #Absorbing states\n",
    "        self.absorbing_states = [self.loc_to_state(state_id,self.locs) for state_id in self.absorbing_locs]\n",
    "\n",
    "        \n",
    "        \n",
    "        # Number of the starting state\n",
    "        self.starting_state = self.loc_to_state(self.starting_loc, locs);\n",
    "        \n",
    "        # Locating the initial state\n",
    "        self.initial = np.zeros((1,len(locs)));\n",
    "        self.initial[0,self.starting_state] = 1\n",
    "        \n",
    "        # Placing the walls on a bitmap\n",
    "        self.walls = np.zeros(self.shape);\n",
    "        for ob in self.obstacle_locs:\n",
    "            self.walls[ob]=1\n",
    "            \n",
    "        # Placing the absorbers on a grid for illustration\n",
    "        self.absorbers = np.zeros(self.shape)\n",
    "        for ab in self.absorbing_locs:\n",
    "            self.absorbers[ab] = -1\n",
    "        \n",
    "        # Placing the rewarders on a grid for illustration\n",
    "        self.rewarders = np.zeros(self.shape)\n",
    "        for i, rew in enumerate(self.absorbing_locs):\n",
    "            self.rewarders[rew] = self.special_rewards[i]\n",
    "        \n",
    "        #Illustrating the grid world\n",
    "        self.paint_maps()\n",
    "        \n",
    "        \n",
    "    #takes list of locations and a loc and gives the index corresponding to input loc\n",
    "    def loc_to_state(self,loc,locs):\n",
    "            return locs.index(tuple(loc))\n",
    "    \n",
    "    def get_random_start(self):\n",
    "        states = [state for state in self.locs if state not in self.absorbing_locs]\n",
    "        return random.choice(states)\n",
    "        \n",
    "    #Check if a specific location is valid and not an obstacle\n",
    "    def is_location(self,loc):\n",
    "        if(loc[0] < 0 or loc[1] < 0 or loc[0] > self.shape[0] - 1 or loc[1] > self.shape[1] -1):\n",
    "            return False\n",
    "        elif(loc in self.obstacle_locs):\n",
    "            return False\n",
    "        else:\n",
    "            return True\n",
    "        \n",
    "    def get_neighbour(self, loc,direction):\n",
    "        \n",
    "        i = loc[0]\n",
    "        j = loc[1]\n",
    "        \n",
    "        nr = (i-1,j)\n",
    "        ea = (i,j+1)\n",
    "        so = (i+1,j)\n",
    "        we = (i,j-1)\n",
    "        \n",
    "        #If the neighbour is a valid location, accept it, otherwise, stay put\n",
    "        if (direction == 'nr' and self.is_location(nr)):\n",
    "            return nr\n",
    "        elif (direction == 'ea' and self.is_location(ea)):\n",
    "            return ea\n",
    "        elif (direction == 'so' and self.is_location(so)):\n",
    "            return so\n",
    "        elif (direction == 'we' and self.is_location(we)):\n",
    "            return we\n",
    "        else:\n",
    "            #Default stay where you are\n",
    "            return loc\n",
    "      \n",
    "    ####### Getters ###########\n",
    "    \n",
    "    def get_transition_matrix(self):\n",
    "        return self.T\n",
    "    \n",
    "    def get_reward_matrix(self):\n",
    "        return self.R\n",
    "    \n",
    "    def get_valuefunction(self):\n",
    "        return self.Value\n",
    "    \n",
    "    ########################\n",
    "    \n",
    "    \n",
    "    \n",
    "    #Returns the locations of our states, the number of their neighbours and the absorbing states\n",
    "    #locations of our states: list of tuples\n",
    "    #2D array: number of states x neighbours (same number if wall or blocked)\n",
    "    #absorbing states: array length number of states 1 for absorbing states\n",
    "    def get_topology(self):\n",
    "    \n",
    "        height = self.shape[0]\n",
    "        width = self.shape[1]\n",
    "        \n",
    "        #index = 1\n",
    "        locs = []\n",
    "        neighbour_locs = []\n",
    "        \n",
    "        for i in range(height):\n",
    "            for j in range(width):\n",
    "                \n",
    "                #Get the location of each state\n",
    "                loc = (i,j)\n",
    "                \n",
    "                #And append if is is a valid state i.e. not absorbing\n",
    "                if (self.is_location(loc)):\n",
    "                    locs.append(loc)\n",
    "                    \n",
    "                    #Get an array with all neighbours of each state, in terms of locations\n",
    "                    local_neighbours = [self.get_neighbour(loc,direction) for direction in ['nr','ea','so','we']]\n",
    "                    neighbour_locs.append(local_neighbours)\n",
    "                    \n",
    "        #translate neighbour lists from locations to states\n",
    "        num_states = len(locs)\n",
    "        state_neighbours = np.zeros((num_states,4))\n",
    "        \n",
    "        for state in range(num_states):\n",
    "            \n",
    "            for direction in range(4):\n",
    "                #Get neighbour location\n",
    "                nloc = neighbour_locs[state][direction]\n",
    "                \n",
    "                #Turn location into state number \n",
    "                nstate = self.loc_to_state(nloc,locs)\n",
    "                \n",
    "                #Insert into neighbour matrix\n",
    "                state_neighbours[state][direction] = nstate\n",
    "                \n",
    "        #Translate absorbing locations into state indices\n",
    "        absorbing = np.zeros((1,num_states))\n",
    "        for a in self.absorbing_locs:\n",
    "            absorbing_statenum = self.loc_to_state(a,locs)\n",
    "            absorbing[0,absorbing_statenum] = 1\n",
    "        \n",
    "        return locs,state_neighbours,absorbing\n",
    "        \n",
    "    #Builds the Grid world \n",
    "    #Return the Number of states, Transition Matrix, Reward matrix, absorbing states, and the\n",
    "    #locations of all valid states\n",
    "    def build_grid_world(self):\n",
    "        \n",
    "        locations, neighbours,absorbing = self.get_topology()\n",
    "        #Get number of sttes\n",
    "        S = len(locations)\n",
    "        \n",
    "        #Initialize the transition matrix\n",
    "        T = np.zeros((S,S,4))\n",
    "        \n",
    "        #Fill the transition Matrix\n",
    "        for action in range(4):\n",
    "            for effect in range(4):\n",
    "                outcome = (action+effect+1) % 4\n",
    "                if outcome == 0:\n",
    "                    outcome = 3\n",
    "                else:\n",
    "                    outcome -= 1                \n",
    "                \n",
    "                \n",
    "                \n",
    "                \n",
    "                \n",
    "                prob = self.action_randomizing_array[effect]\n",
    "                for prior_state in range(S):\n",
    "                    post_state = neighbours[prior_state,outcome]\n",
    "                    post_state = int(post_state)\n",
    "                    T[post_state,prior_state,action] = T[post_state,prior_state,action]+prob\n",
    "                    \n",
    "    \n",
    "        R = self.default_reward*np.ones((S,S,4))\n",
    "        for i, sr in enumerate(self.special_rewards):\n",
    "            post_state = self.loc_to_state(self.absorbing_locs[i],locations)\n",
    "            R[post_state,:,:] = sr\n",
    "        \n",
    "        \n",
    "        return S,T,R,absorbing,locations\n",
    "    \n",
    "        ########### Internal Drawing Functions #####################\n",
    "\n",
    "    ## You do not need to understand these functions in detail in order to complete the lab ##\n",
    "\n",
    "\n",
    "    def draw_deterministic_policy(self, Policy):\n",
    "        # Draw a deterministic policy\n",
    "        # The policy needs to be a np array of 22 values between 0 and 3 with\n",
    "        # 0 -> N, 1->E, 2->S, 3->W\n",
    "        plt.figure()\n",
    "        \n",
    "        plt.imshow(self.walls+self.rewarders +self.absorbers) # Create the graph of the grid\n",
    "        #plt.hold('on')\n",
    "        for state, action in enumerate(Policy):\n",
    "            if(self.absorbing[0,state]): # If it is an absorbing state, don't plot any action\n",
    "                continue\n",
    "            arrows = [r\"$\\uparrow$\",r\"$\\rightarrow$\", r\"$\\downarrow$\", r\"$\\leftarrow$\"] # List of arrows corresponding to each possible action\n",
    "            action_arrow = arrows[action] # Take the corresponding action\n",
    "            location = self.locs[state] # Compute its location on graph\n",
    "            plt.text(location[1], location[0], action_arrow, ha='center', va='center') # Place it on graph\n",
    "    \n",
    "        plt.show()\n",
    "\n",
    "    \n",
    "    def draw_value(self, Value):\n",
    "        # Draw a policy value function\n",
    "        # The value need to be a np array of 22 values \n",
    "        plt.figure()\n",
    "        \n",
    "        plt.imshow(self.walls+self.rewarders +self.absorbers) # Create the graph of the grid\n",
    "        for state, value in enumerate(Value):\n",
    "            if(self.absorbing[0,state]): # If it is an absorbing state, don't plot any value\n",
    "                continue\n",
    "            location = self.locs[state] # Compute the value location on graph\n",
    "            plt.text(location[1], location[0], round(value,2), ha='center', va='center') # Place it on graph\n",
    "    \n",
    "        plt.show()\n",
    "\n",
    "\n",
    "    def draw_deterministic_policy_grid(self, Policy, title, n_columns, n_lines):\n",
    "        # Draw a grid of deterministic policy\n",
    "        # The policy needs to be an arrya of np array of 22 values between 0 and 3 with\n",
    "        # 0 -> N, 1->E, 2->S, 3->W\n",
    "        plt.figure(figsize=(20,8))\n",
    "        for subplot in range (len(Policy)): # Go through all policies\n",
    "          ax = plt.subplot(n_columns, n_lines, subplot+1) # Create a subplot for each policy\n",
    "          ax.imshow(self.walls+self.rewarders +self.absorbers) # Create the graph of the grid\n",
    "          for state, action in enumerate(Policy[subplot]):\n",
    "              if(self.absorbing[0,state]): # If it is an absorbing state, don't plot any action\n",
    "                  continue\n",
    "              arrows = [r\"$\\uparrow$\",r\"$\\rightarrow$\", r\"$\\downarrow$\", r\"$\\leftarrow$\"] # List of arrows corresponding to each possible action\n",
    "              action_arrow = arrows[action] # Take the corresponding action\n",
    "              location = self.locs[state] # Compute its location on graph\n",
    "              plt.text(location[1], location[0], action_arrow, ha='center', va='center') # Place it on graph\n",
    "          ax.title.set_text(title[subplot]) # Set the title for the graoh given as argument\n",
    "        plt.show()\n",
    "\n",
    "    def draw_value_grid(self, Value, title, n_columns, n_lines):\n",
    "        # Draw a grid of value function\n",
    "        # The value need to be an array of np array of 22 values \n",
    "        plt.figure(figsize=(20,8))\n",
    "        for subplot in range (len(Value)): # Go through all values\n",
    "          ax = plt.subplot(n_columns, n_lines, subplot+1) # Create a subplot for each value\n",
    "          ax.imshow(self.walls+self.rewarders +self.absorbers) # Create the graph of the grid\n",
    "          for state, value in enumerate(Value[subplot]):\n",
    "              if(self.absorbing[0,state]): # If it is an absorbing state, don't plot any value\n",
    "                  continue\n",
    "              location = self.locs[state] # Compute the value location on graph\n",
    "              plt.text(location[1], location[0], round(value,1), ha='center', va='center') # Place it on graph\n",
    "          ax.title.set_text(title[subplot]) # Set the title for the graoh given as argument\n",
    "        plt.show()\n",
    "\n",
    "    ##########################\n",
    "    \n",
    "    def paint_maps(self):\n",
    "        # Helper function to print the grid word used in __init__\n",
    "        plt.figure()\n",
    "        plt.subplot(1,3,1)\n",
    "        plt.imshow(self.walls)\n",
    "        plt.title('Obstacles')\n",
    "        plt.subplot(1,3,2)\n",
    "        plt.imshow(self.absorbers)\n",
    "        plt.title('Absorbing states')\n",
    "        plt.subplot(1,3,3)\n",
    "        plt.imshow(self.rewarders)\n",
    "        plt.title('Reward states')\n",
    "        plt.show()\n",
    "        \n",
    "    \n",
    "    \n",
    "    def get_trace(self,policy,exploring_start):\n",
    "        \n",
    "        start = self.get_random_start()\n",
    "        start_num = self.loc_to_state(start,self.locs)\n",
    "        state_id = start_num\n",
    "        absorbing_states = [self.loc_to_state(state_id,self.locs) for state_id in self.absorbing_locs]\n",
    "        trace = []\n",
    "        \n",
    "        \"\"\"\n",
    "        if exploring_start:\n",
    "            action = np.random.randint(4)\n",
    "            prob = self.T[:,state_id,action]\n",
    "            state_id_prime = np.random.choice(np.arange(prob.shape[0]),p = prob)\n",
    "            reward = self.R[state_id_prime,state_id,action]\n",
    "            trace.append((state_id,action,reward))\n",
    "            state_id = state_id_prime\n",
    "        \"\"\"\n",
    "        #Creates consequite state,action,reward until reaches terminal state\n",
    "        while(state_id not in absorbing_states):\n",
    "            \n",
    "            #Takes prefered action\n",
    "            action = np.argmax(policy[state_id])\n",
    "            #Probablility of successor states in this combo\n",
    "            prob = self.T[:,state_id,action]\n",
    "            state_id_prime = np.random.choice(np.arange(prob.shape[0]),p = prob)\n",
    "            reward = self.R[state_id_prime,state_id,action]\n",
    "            trace.append((state_id,action,reward))\n",
    "            state_id = state_id_prime\n",
    "        #trace.append((state_id,None,None))\n",
    "        return trace\n",
    "    \n",
    "    \n",
    "    #Given optimal estimated action for every state creates a greedy policy\n",
    "    def choose_action(self,epsilon,policy):\n",
    "        \n",
    "        action = np.zeros(policy.shape)\n",
    "        \n",
    "        for i in range(policy.shape[0]):\n",
    "            maxindex = np.argmax(policy[i])\n",
    "            prob = np.ones(4) * epsilon / 4\n",
    "            prob[maxindex] = 1 - epsilon + epsilon / 4\n",
    "            action[i,np.random.choice(np.arange(4),p = prob)] = 1\n",
    "        return action\n",
    "    \n",
    "    def epsilon(self,i):\n",
    "        return 1 / math.pow(2,i)\n",
    "     \n",
    "    \"\"\"\"\n",
    "    def monte_carlo_iterative(self,n,alpha):\n",
    "        \n",
    "        #Initialize\n",
    "        Q = np.random.random((self.state_size,self.action_size))\n",
    "        greedy_policy = self.choose_action(1,Q)\n",
    "        #alpha = np.ones((self.state_size,self.action_size))\n",
    "        \n",
    "        \n",
    "        for i in range(n):\n",
    "            \n",
    "            #Get trace\n",
    "            returns = {}\n",
    "            trace = self.get_trace(greedy_policy)\n",
    "            #print(len(trace))\n",
    "            #Collects first occurences of trace in dicitonary\n",
    "            for _ , step in enumerate(trace):\n",
    "                state = step[0]\n",
    "                action = step[1]\n",
    "                reward = step[2]\n",
    "                if (state,action) not in returns:\n",
    "                    returns[(state,action)] = reward\n",
    "            #Adjusts current estimate of Q according to newly seen first rewards\n",
    "            #print(returns)\n",
    "            for _,R in enumerate(returns):\n",
    "                state,action = R\n",
    "                reward = returns[R]\n",
    "                \n",
    "                Q[state,action] += alpha *(reward - Q[state,action])\n",
    "                #alpha[state,action] += 1\n",
    "            \n",
    "            greedy_policy = self.choose_action(0.4,Q)\n",
    "        \n",
    "        return (self.choose_action(self.epsilon(n),Q),Q)\n",
    "    \"\"\"\n",
    "\n",
    "    \n",
    "    def MC_algorithm(self,discount):\n",
    "        \n",
    "        epochs = 0\n",
    "        Q = np.zeros((self.state_size,self.action_size))\n",
    "        policy = self.choose_policy(Q)\n",
    "        count_per_state = np.ones((self.state_size,self.action_size))\n",
    "\n",
    "        #print(Q)\n",
    "        #print(policy)\n",
    "        \n",
    "        while epochs < 5000:\n",
    "            \n",
    "            epochs += 1\n",
    "            oldpolicy = policy\n",
    "            \n",
    "            Q,count_per_state = self.MC_Estimation(Q,policy,discount,count_per_state)\n",
    "            #print(Q)\n",
    "            policy = self.choose_policy(Q)\n",
    "        \n",
    "        return (policy,Q,epochs)\n",
    "\n",
    "            #Given optimal estimated action for every state creates a greedy policy\n",
    "    def choose_policy(self,Q):\n",
    "        \n",
    "        action = np.zeros(Q.shape)\n",
    "        maxindex = np.argmax(Q,axis = 1)\n",
    "        for i in range(len(maxindex)):\n",
    "            action[i][maxindex[i]] = 1\n",
    "        return action\n",
    "        \n",
    "    #Old\n",
    "    def FV_MC_Estimation(self,Q,policy,cnt_episodes,alpha):\n",
    "        \n",
    "        alpha = np.ones(self.state_size)\n",
    "        \n",
    "        for i in range(cnt_episodes):\n",
    "            \n",
    "            trace = self.get_trace(policy,True)\n",
    "            state_id = trace[0][0]\n",
    "            \n",
    "            \n",
    "            for i,group in enumerate(trace):\n",
    "                \n",
    "                state_id,action,reward = group\n",
    "                \n",
    "                if state_id in self.absorbing_states:\n",
    "                    break\n",
    "    \n",
    "                if ((state_id,action) not in Returns):\n",
    "            \n",
    "                    Returns[(state_id,action)] = reward\n",
    "                    Q[state_id,action] += 1/ alpha[state_id] * (reward - Q[state_id,action])\n",
    "        \n",
    "            \n",
    "        return Q\n",
    "    \n",
    "    \n",
    "    def MC_Estimation(self,Q,policy,discount,count_per_state):\n",
    "        \n",
    "        Returns = {}\n",
    "        #print(Q)\n",
    "        #print(policy)\n",
    "        \n",
    "        for i in range(2):\n",
    "        \n",
    "            trace = self.get_trace(policy,True)\n",
    "        \n",
    "            #Gets every S,A,R group in the trace\n",
    "            for num,episode in enumerate(trace):\n",
    "            \n",
    "                state_id = episode[0]\n",
    "                action = episode[1]\n",
    "                reward = episode[2]\n",
    "            \n",
    "                if (state_id,action) not in Returns:\n",
    "                    Returns[(state_id,action)] = []\n",
    "                \n",
    "                #For every state,action pain we build a list of all rewards that we get from that pair to the terminal state\n",
    "                for element in Returns:\n",
    "                    Returns[element].append(reward)\n",
    "                #print(Returns)\n",
    "            \n",
    "            #For every pair we compute the discounted return (here reward) and use this to average update our old q value\n",
    "            for state_action in Returns:\n",
    "            \n",
    "                discount_reward = 0\n",
    "                for count,group in enumerate(Returns[state_action]):\n",
    "                    discount_reward += (discount ** count) * group\n",
    "                state,action = state_action\n",
    "                Q[state,action] += 1 / count_per_state[state,action] * (discount_reward - Q[state,action])\n",
    "                count_per_state[state,action]+= 1\n",
    "        \n",
    "        return Q,count_per_state\n",
    "            \n",
    "        \n",
    "        \n",
    "    \n",
    "    \n",
    "    "
   ]
  },
  {
   "cell_type": "code",
   "execution_count": null,
   "metadata": {},
   "outputs": [],
   "source": []
  },
  {
   "cell_type": "code",
   "execution_count": 116,
   "metadata": {},
   "outputs": [
    {
     "data": {
      "text/plain": [
       "29"
      ]
     },
     "execution_count": 116,
     "metadata": {},
     "output_type": "execute_result"
    }
   ],
   "source": [
    "grid.state_size"
   ]
  },
  {
   "cell_type": "code",
   "execution_count": 117,
   "metadata": {},
   "outputs": [
    {
     "data": {
      "image/png": "[encoded data removed]",
      "text/plain": [
       "<Figure size 432x288 with 3 Axes>"
      ]
     },
     "metadata": {
      "needs_background": "light"
     },
     "output_type": "display_data"
    }
   ],
   "source": [
    "grid = GridWorld(p = 0.65)"
   ]
  },
  {
   "cell_type": "code",
   "execution_count": 118,
   "metadata": {},
   "outputs": [
    {
     "data": {
      "image/png": "[encoded data removed]",
      "text/plain": [
       "<Figure size 432x288 with 1 Axes>"
      ]
     },
     "metadata": {
      "needs_background": "light"
     },
     "output_type": "display_data"
    }
   ],
   "source": [
    "opt_pol,Q,epochs = grid.MC_algorithm(0.8)\n",
    "grid.draw_deterministic_policy(np.array([np.argmax(opt_pol[row,:]) for row in range(grid.state_size)]))\n"
   ]
  },
  {
   "cell_type": "code",
   "execution_count": 119,
   "metadata": {},
   "outputs": [
    {
     "data": {
      "image/png": "[encoded data removed]",
      "text/plain": [
       "<Figure size 432x288 with 1 Axes>"
      ]
     },
     "metadata": {
      "needs_background": "light"
     },
     "output_type": "display_data"
    }
   ],
   "source": [
    "val = np.max(Q,axis = 1)\n",
    "grid.draw_value(val)"
   ]
  },
  {
   "cell_type": "code",
   "execution_count": 127,
   "metadata": {},
   "outputs": [
    {
     "data": {
      "text/plain": [
       "array([[-4.9975077 ,  0.        ,  0.        ,  0.        ],\n",
       "       [-3.71150981,  0.        ,  0.        ,  0.        ],\n",
       "       [-2.98673408,  0.        ,  0.        ,  0.        ],\n",
       "       [ 2.68      ,  0.        ,  0.        ,  0.        ],\n",
       "       [ 0.        ,  0.        ,  0.        ,  0.        ],\n",
       "       [ 0.        ,  0.        ,  0.        ,  0.        ],\n",
       "       [-4.99800616,  0.        ,  0.        ,  0.        ],\n",
       "       [-1.854272  ,  0.        ,  0.        ,  0.        ],\n",
       "       [ 0.        ,  0.        ,  0.        ,  0.        ],\n",
       "       [ 0.        ,  0.        ,  0.        ,  0.        ],\n",
       "       [ 0.        ,  0.        ,  0.        ,  0.        ],\n",
       "       [-4.99840493,  0.        ,  0.        ,  0.        ],\n",
       "       [ 0.        ,  0.        ,  0.        ,  0.        ],\n",
       "       [ 0.        ,  0.        ,  0.        ,  0.        ],\n",
       "       [ 0.        ,  0.        ,  0.        ,  0.        ],\n",
       "       [-4.99872394,  0.        ,  0.        ,  0.        ],\n",
       "       [ 0.        ,  0.        ,  0.        ,  0.        ],\n",
       "       [ 0.        ,  0.        ,  0.        ,  0.        ],\n",
       "       [ 0.        ,  0.        ,  0.        ,  0.        ],\n",
       "       [ 0.        ,  0.        ,  0.        ,  0.        ],\n",
       "       [ 0.        ,  0.        ,  0.        ,  0.        ],\n",
       "       [ 0.        ,  0.        ,  0.        ,  0.        ],\n",
       "       [ 0.        ,  0.        ,  0.        ,  0.        ],\n",
       "       [ 0.        ,  0.        ,  0.        ,  0.        ],\n",
       "       [ 0.        ,  0.        ,  0.        ,  0.        ],\n",
       "       [ 0.        ,  0.        ,  0.        ,  0.        ],\n",
       "       [ 0.        ,  0.        ,  0.        ,  0.        ],\n",
       "       [ 0.        ,  0.        ,  0.        ,  0.        ],\n",
       "       [ 0.        ,  0.        ,  0.        ,  0.        ]])"
      ]
     },
     "execution_count": 127,
     "metadata": {},
     "output_type": "execute_result"
    }
   ],
   "source": [
    "policy = np.ones((self.state_size,self.action_size)) / 4\n",
    "val = self.MC_Estimation(policy,0.8)\n",
    "val"
   ]
  },
  {
   "cell_type": "code",
   "execution_count": 122,
   "metadata": {},
   "outputs": [
    {
     "ename": "TypeError",
     "evalue": "type numpy.ndarray doesn't define __round__ method",
     "output_type": "error",
     "traceback": [
      "\u001b[0;31m---------------------------------------------------------------------------\u001b[0m",
      "\u001b[0;31mTypeError\u001b[0m                                 Traceback (most recent call last)",
      "\u001b[0;32m<ipython-input-122-c8ef5a6c848d>\u001b[0m in \u001b[0;36m<module>\u001b[0;34m\u001b[0m\n\u001b[0;32m----> 1\u001b[0;31m \u001b[0mself\u001b[0m\u001b[0;34m.\u001b[0m\u001b[0mdraw_value\u001b[0m\u001b[0;34m(\u001b[0m\u001b[0mval\u001b[0m\u001b[0;34m)\u001b[0m\u001b[0;34m\u001b[0m\u001b[0;34m\u001b[0m\u001b[0m\n\u001b[0m",
      "\u001b[0;32m<ipython-input-119-2343509c6ed6>\u001b[0m in \u001b[0;36mdraw_value\u001b[0;34m(self, Value)\u001b[0m\n\u001b[1;32m    266\u001b[0m                 \u001b[0;32mcontinue\u001b[0m\u001b[0;34m\u001b[0m\u001b[0;34m\u001b[0m\u001b[0m\n\u001b[1;32m    267\u001b[0m             \u001b[0mlocation\u001b[0m \u001b[0;34m=\u001b[0m \u001b[0mself\u001b[0m\u001b[0;34m.\u001b[0m\u001b[0mlocs\u001b[0m\u001b[0;34m[\u001b[0m\u001b[0mstate\u001b[0m\u001b[0;34m]\u001b[0m \u001b[0;31m# Compute the value location on graph\u001b[0m\u001b[0;34m\u001b[0m\u001b[0;34m\u001b[0m\u001b[0m\n\u001b[0;32m--> 268\u001b[0;31m             \u001b[0mplt\u001b[0m\u001b[0;34m.\u001b[0m\u001b[0mtext\u001b[0m\u001b[0;34m(\u001b[0m\u001b[0mlocation\u001b[0m\u001b[0;34m[\u001b[0m\u001b[0;36m1\u001b[0m\u001b[0;34m]\u001b[0m\u001b[0;34m,\u001b[0m \u001b[0mlocation\u001b[0m\u001b[0;34m[\u001b[0m\u001b[0;36m0\u001b[0m\u001b[0;34m]\u001b[0m\u001b[0;34m,\u001b[0m \u001b[0mround\u001b[0m\u001b[0;34m(\u001b[0m\u001b[0mvalue\u001b[0m\u001b[0;34m,\u001b[0m\u001b[0;36m2\u001b[0m\u001b[0;34m)\u001b[0m\u001b[0;34m,\u001b[0m \u001b[0mha\u001b[0m\u001b[0;34m=\u001b[0m\u001b[0;34m'center'\u001b[0m\u001b[0;34m,\u001b[0m \u001b[0mva\u001b[0m\u001b[0;34m=\u001b[0m\u001b[0;34m'center'\u001b[0m\u001b[0;34m)\u001b[0m \u001b[0;31m# Place it on graph\u001b[0m\u001b[0;34m\u001b[0m\u001b[0;34m\u001b[0m\u001b[0m\n\u001b[0m\u001b[1;32m    269\u001b[0m \u001b[0;34m\u001b[0m\u001b[0m\n\u001b[1;32m    270\u001b[0m         \u001b[0mplt\u001b[0m\u001b[0;34m.\u001b[0m\u001b[0mshow\u001b[0m\u001b[0;34m(\u001b[0m\u001b[0;34m)\u001b[0m\u001b[0;34m\u001b[0m\u001b[0;34m\u001b[0m\u001b[0m\n",
      "\u001b[0;31mTypeError\u001b[0m: type numpy.ndarray doesn't define __round__ method"
     ]
    },
    {
     "data": {
      "image/png": "[encoded data removed]",
      "text/plain": [
       "<Figure size 432x288 with 1 Axes>"
      ]
     },
     "metadata": {
      "needs_background": "light"
     },
     "output_type": "display_data"
    }
   ],
   "source": [
    "self.draw_value(val)"
   ]
  },
  {
   "cell_type": "code",
   "execution_count": 335,
   "metadata": {},
   "outputs": [
    {
     "data": {
      "image/png": "[encoded data removed]",
      "text/plain": [
       "<Figure size 432x288 with 3 Axes>"
      ]
     },
     "metadata": {
      "needs_background": "light"
     },
     "output_type": "display_data"
    },
    {
     "name": "stdout",
     "output_type": "stream",
     "text": [
      "The optimal policy computed using value iteration is:\n",
      "\n",
      " [[0. 1. 0. 0.]\n",
      " [0. 1. 0. 0.]\n",
      " [0. 1. 0. 0.]\n",
      " [0. 0. 1. 0.]\n",
      " [0. 0. 0. 1.]\n",
      " [0. 0. 0. 1.]\n",
      " [1. 0. 0. 0.]\n",
      " [0. 1. 0. 0.]\n",
      " [0. 0. 1. 0.]\n",
      " [0. 0. 0. 1.]\n",
      " [0. 0. 0. 1.]\n",
      " [0. 1. 0. 0.]\n",
      " [0. 1. 0. 0.]\n",
      " [1. 0. 0. 0.]\n",
      " [1. 0. 0. 0.]\n",
      " [1. 0. 0. 0.]\n",
      " [1. 0. 0. 0.]\n",
      " [0. 0. 0. 1.]\n",
      " [1. 0. 0. 0.]\n",
      " [0. 0. 0. 1.]\n",
      " [1. 0. 0. 0.]\n",
      " [1. 0. 0. 0.]\n",
      " [1. 0. 0. 0.]\n",
      " [1. 0. 0. 0.]\n",
      " [0. 0. 0. 1.]\n",
      " [0. 0. 0. 1.]\n",
      " [0. 1. 0. 0.]\n",
      " [0. 1. 0. 0.]\n",
      " [1. 0. 0. 0.]]\n",
      "\n",
      "\n",
      "Its graphical representation is:\n",
      "\n"
     ]
    },
    {
     "data": {
      "image/png": "[encoded data removed]",
      "text/plain": [
       "<Figure size 432x288 with 1 Axes>"
      ]
     },
     "metadata": {
      "needs_background": "light"
     },
     "output_type": "display_data"
    },
    {
     "name": "stdout",
     "output_type": "stream",
     "text": [
      "The values are:\n"
     ]
    },
    {
     "data": {
      "image/png": "[encoded data removed]",
      "text/plain": [
       "<Figure size 432x288 with 1 Axes>"
      ]
     },
     "metadata": {
      "needs_background": "light"
     },
     "output_type": "display_data"
    },
    {
     "name": "stdout",
     "output_type": "stream",
     "text": [
      "\n",
      "It took 11 epochs\n",
      "\n"
     ]
    }
   ],
   "source": [
    "grid = GridWorld(p = 0.65)\n",
    "opt_pol, epochs = grid.value_iteration(discount = 0.5)\n",
    "\n",
    "# Plot policy for policy iteration\n",
    "print(\"The optimal policy computed using value iteration is:\\n\\n {}\".format(opt_pol))\n",
    "print(\"\\n\\nIts graphical representation is:\\n\")\n",
    "grid.draw_deterministic_policy(np.array([np.argmax(opt_pol[row,:]) for row in range(grid.state_size)]))\n",
    "# Plot number of epoch\n",
    "print(\"The values are:\")\n",
    "val = grid.get_valuefunction()\n",
    "grid.draw_value(val)\n",
    "print(\"\\nIt took {} epochs\\n\".format(epochs))"
   ]
  },
  {
   "cell_type": "code",
   "execution_count": 336,
   "metadata": {},
   "outputs": [
    {
     "name": "stdout",
     "output_type": "stream",
     "text": [
      "\n",
      "Impact of gamma value on the number of epochs needed for the value iteration algorithm:\n",
      "\n"
     ]
    },
    {
     "data": {
      "image/png": "[encoded data removed]",
      "text/plain": [
       "<Figure size 432x288 with 1 Axes>"
      ]
     },
     "metadata": {
      "needs_background": "light"
     },
     "output_type": "display_data"
    },
    {
     "name": "stdout",
     "output_type": "stream",
     "text": [
      "\n",
      "Graphical representation of the policy for each gamma:\n",
      "\n"
     ]
    },
    {
     "data": {
      "image/png": "[encoded data removed]",
      "text/plain": [
       "<Figure size 1440x576 with 5 Axes>"
      ]
     },
     "metadata": {
      "needs_background": "light"
     },
     "output_type": "display_data"
    },
    {
     "name": "stdout",
     "output_type": "stream",
     "text": [
      "\n",
      "Graphical representation of the value function for each gamma:\n",
      "\n"
     ]
    },
    {
     "data": {
      "image/png": "[encoded data removed]",
      "text/plain": [
       "<Figure size 1440x576 with 5 Axes>"
      ]
     },
     "metadata": {
      "needs_background": "light"
     },
     "output_type": "display_data"
    }
   ],
   "source": [
    "# Impact of gamma on the value iteration algorithm\n",
    "gamma_range = [0, 0.3, 0.5, 0.7, 0.9]\n",
    "epochs_needed = []\n",
    "pols_needed = []\n",
    "pols_title = []\n",
    "vals_needed = []\n",
    "vals_title = []\n",
    "\n",
    "# Use value iteration for each gamma value\n",
    "for gamma in gamma_range:\n",
    "    pol_opt2, epochs = grid.value_iteration(discount = gamma)\n",
    "    val = grid.get_valuefunction()\n",
    "    vals_needed.append(val)\n",
    "    vals_title.append(\"gamma = {}\".format(gamma))\n",
    "    epochs_needed.append(epochs)\n",
    "    pols_needed.append(np.array([np.argmax(pol_opt2[row,:]) for row in range(grid.state_size)]))\n",
    "    pols_title.append(\"gamma = {}\".format(gamma))\n",
    "\n",
    "# Plot the number of epochs vs gamma values\n",
    "print(\"\\nImpact of gamma value on the number of epochs needed for the value iteration algorithm:\\n\")\n",
    "plt.figure()\n",
    "plt.plot(gamma_range, epochs_needed)\n",
    "plt.xlabel(\"Gamma range\")\n",
    "plt.ylabel(\"Number of epochs\")\n",
    "plt.show()\n",
    "\n",
    "# Print all policies for different values of gamma\n",
    "print(\"\\nGraphical representation of the policy for each gamma:\\n\")\n",
    "grid.draw_deterministic_policy_grid(pols_needed, pols_title, 1, 6)\n",
    "\n",
    "# Print all value functions for different values of gamma\n",
    "print(\"\\nGraphical representation of the value function for each gamma:\\n\")\n",
    "grid.draw_value_grid(vals_needed, vals_title, 2, 6)"
   ]
  },
  {
   "cell_type": "code",
   "execution_count": null,
   "metadata": {},
   "outputs": [],
   "source": []
  }
 ],
 "metadata": {
  "kernelspec": {
   "display_name": "Python 3",
   "language": "python",
   "name": "python3"
  },
  "language_info": {
   "codemirror_mode": {
    "name": "ipython",
    "version": 3
   },
   "file_extension": ".py",
   "mimetype": "text/x-python",
   "name": "python",
   "nbconvert_exporter": "python",
   "pygments_lexer": "ipython3",
   "version": "3.8.5"
  }
 },
 "nbformat": 4,
 "nbformat_minor": 4
}
