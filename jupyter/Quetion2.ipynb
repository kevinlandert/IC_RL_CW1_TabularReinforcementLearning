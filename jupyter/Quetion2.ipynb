{
 "cells": [
  {
   "cell_type": "code",
   "execution_count": 1,
   "metadata": {},
   "outputs": [],
   "source": [
    "import numpy as np\n",
    "import matplotlib.pyplot as plt"
   ]
  },
  {
   "cell_type": "code",
   "execution_count": 7,
   "metadata": {},
   "outputs": [],
   "source": [
    "class GridWorld(object):\n",
    "    \n",
    "    def __init__(self):\n",
    "        \n",
    "        ### Attributes defining the Gridworld #######\n",
    "\n",
    "        # Shape of the gridworld\n",
    "        self.shape = (6,6)\n",
    "        \n",
    "        # Locations of the obstacles\n",
    "        self.obstacle_locs = [(1,1),(2,3),(2,5),(3,1),(4,1),(4,2),(4,4)]\n",
    "        \n",
    "        # Locations for the absorbing states\n",
    "        self.absorbing_locs = [(1,3),(4,3)]\n",
    "        \n",
    "        # Rewards for each of the absorbing states \n",
    "        self.special_rewards = [+10,-100] # Corresponds to each of the absorbing_locs\n",
    "        \n",
    "        # Reward for all the other states\n",
    "        self.default_reward = -1\n",
    "        \n",
    "        # Starting location\n",
    "        #TODO: randomize this\n",
    "        self.starting_loc =  None\n",
    "        \n",
    "        # Action names\n",
    "        self.action_names = ['N','E','S','W'] # Action 0 is 'N', 1 is 'E' and so on\n",
    "        \n",
    "        # Number of actions\n",
    "        self.action_size = len(self.action_names)\n",
    "        \n",
    "        # Randomizing action results: [1 0 0 0] to no Noise in the action results.\n",
    "        #TODO\n",
    "        self.action_randomizing_array = [0.8, 0.1, 0.0 , 0.1]\n",
    "        \n",
    "        \n",
    "    #takes list of locations and a loc and gives the index corresponding to input loc\n",
    "    def loc_to_state(self,loc,locs):\n",
    "            return locs.index(tuple(loc))\n",
    "        \n",
    "        \n",
    "    #Check if a specific location is valid and not an obstacle\n",
    "    def is_location(self,loc):\n",
    "        if(loc[0] < 0 or loc[1] < 0 or loc[0] > self.shape[0] - 1 or loc[1] > self.shape[1] -1):\n",
    "            return False\n",
    "        elif(loc in self.obstacle_locs):\n",
    "            return False\n",
    "        else:\n",
    "            return True\n",
    "        \n",
    "    def get_neighbour(self, loc,direction):\n",
    "        \n",
    "        i = loc[0]\n",
    "        j = loc[1]\n",
    "        \n",
    "        nr = (i-1,j)\n",
    "        ea = (i,j+1)\n",
    "        so = (i+1,j)\n",
    "        we = (i,j-1)\n",
    "        \n",
    "        #If the neighbour is a valid location, accept it, otherwise, stay put\n",
    "        if (direction == 'nr' and self.is_location(nr)):\n",
    "            return nr\n",
    "        elif (direction == 'ea' and self.is_location(ea)):\n",
    "            return ea\n",
    "        elif (direction == 'so' and self.is_location(so)):\n",
    "            return so\n",
    "        elif (direction == 'we' and self.is_location(we)):\n",
    "            return we\n",
    "        else:\n",
    "            #Default stay where you are\n",
    "            return loc\n",
    "        \n",
    "    def get_topology(self)\n",
    "    \n",
    "        height = self.shape[0]\n",
    "        width = self.shape[1]\n",
    "        \n",
    "        #index = 1\n",
    "        locs = []\n",
    "        neighbour_locs = []\n",
    "        \n",
    "        for in range(height):\n",
    "            for j in range(width):\n",
    "                \n",
    "                #Get the location of each state\n",
    "                loc = (i,j)\n",
    "                \n",
    "                #And append if is is a valid state i.e. not absorbing\n",
    "                if (self.is_location(loc)):\n",
    "                    locs.append(loc)\n",
    "                    \n",
    "                    #Get an array with all neighbours of each state, in terms of locations\n",
    "                    local_neighbours = [self.get_neighbour(loc,direction) for direction in ['nr','ea','so','we']]\n",
    "                    neighbour_locs.append(local_neighbours)\n",
    "                    \n",
    "        #translate neighbour lists from locations to states\n",
    "        num_states = len(locs)\n",
    "        state_neighbours = np.zeros((num_states),4)\n",
    "        \n",
    "        for state in range(num_states):\n",
    "            \n",
    "            for direction in range(4):\n",
    "                #Get neighbour location\n",
    "                nloc = neighbour_locs[state][direction]\n",
    "                \n",
    "                #Turn location into state number \n",
    "                nstate = loc_to_state(nloc,locs)\n",
    "                \n",
    "                #Insert into neighbour matrix\n",
    "                state_neighbours[state][direction] = nstate\n",
    "                \n",
    "        #Translate absorbing locations into state indices\n",
    "        \n",
    "        \n",
    "        "
   ]
  },
  {
   "cell_type": "code",
   "execution_count": 8,
   "metadata": {},
   "outputs": [
    {
     "data": {
      "text/plain": [
       "3"
      ]
     },
     "execution_count": 8,
     "metadata": {},
     "output_type": "execute_result"
    }
   ],
   "source": [
    "locs = [(0,0),(0,1),(1,0),(1,1)]\n",
    "loc = (1,1)\n",
    "GridWorld().loc_to_state(loc,locs)"
   ]
  },
  {
   "cell_type": "code",
   "execution_count": 10,
   "metadata": {},
   "outputs": [
    {
     "data": {
      "text/plain": [
       "True"
      ]
     },
     "execution_count": 10,
     "metadata": {},
     "output_type": "execute_result"
    }
   ],
   "source": [
    "GridWorld().is_location((3,3))"
   ]
  },
  {
   "cell_type": "code",
   "execution_count": 12,
   "metadata": {},
   "outputs": [
    {
     "data": {
      "text/plain": [
       "(2, 1)"
      ]
     },
     "execution_count": 12,
     "metadata": {},
     "output_type": "execute_result"
    }
   ],
   "source": [
    "GridWorld().get_neighbour((2,1),'nr')"
   ]
  },
  {
   "cell_type": "code",
   "execution_count": null,
   "metadata": {},
   "outputs": [],
   "source": []
  }
 ],
 "metadata": {
  "kernelspec": {
   "display_name": "Python 3",
   "language": "python",
   "name": "python3"
  },
  "language_info": {
   "codemirror_mode": {
    "name": "ipython",
    "version": 3
   },
   "file_extension": ".py",
   "mimetype": "text/x-python",
   "name": "python",
   "nbconvert_exporter": "python",
   "pygments_lexer": "ipython3",
   "version": "3.8.5"
  }
 },
 "nbformat": 4,
 "nbformat_minor": 4
}
