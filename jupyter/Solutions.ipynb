{
 "cells": [
  {
   "cell_type": "code",
   "execution_count": null,
   "metadata": {},
   "outputs": [],
   "source": [
    "import numpy as np\n",
    "import sys\n",
    "import os\n",
    "import random\n",
    "import matplotlib.pyplot as plt\n",
    "import math\n",
    "sys.path.append('../')\n",
    "os.getcwd()\n",
    "\n",
    "\n",
    "from src.GridWorld import *\n",
    "\n",
    "%load_ext autoreload\n",
    "%autoreload 2"
   ]
  },
  {
   "cell_type": "code",
   "execution_count": null,
   "metadata": {},
   "outputs": [],
   "source": [
    "grid = GridWorld(p = 0.65)"
   ]
  },
  {
   "cell_type": "markdown",
   "metadata": {},
   "source": [
    "## Question 2"
   ]
  },
  {
   "cell_type": "code",
   "execution_count": null,
   "metadata": {},
   "outputs": [],
   "source": [
    "V2,opt_pol2,epochs2 = grid.value_iteration(discount = 0.2,threshold = 0.0001)\n",
    "grid.draw_value(V2)\n",
    "grid.draw_deterministic_policy(np.array([np.argmax(opt_pol2[row,:]) for row in range(grid.state_size)]))\n"
   ]
  },
  {
   "cell_type": "code",
   "execution_count": null,
   "metadata": {},
   "outputs": [],
   "source": [
    "epochs2"
   ]
  },
  {
   "cell_type": "code",
   "execution_count": null,
   "metadata": {},
   "outputs": [],
   "source": [
    "V2,opt_pol2,epochs2 = grid.policy_iteration(discount = 0.2,threshold = 0.00001)\n",
    "grid.draw_value(V2)\n",
    "grid.draw_deterministic_policy(np.array([np.argmax(opt_pol2[row,:]) for row in range(grid.state_size)]))"
   ]
  },
  {
   "cell_type": "markdown",
   "metadata": {},
   "source": [
    "## Question 3"
   ]
  },
  {
   "cell_type": "code",
   "execution_count": null,
   "metadata": {},
   "outputs": [],
   "source": [
    "Q3,pol3,opt_pol3,learning3,mse3,sauc3 = grid.mc_iterative(epsilon = 1,discount = 0.2,episodes = 10000)\n",
    "V3 = np.sum(np.multiply(opt_pol3,Q3),axis = 1)\n",
    "grid.draw_value(V3)\n",
    "grid.draw_deterministic_policy(np.array([np.argmax(opt_pol3[row,:]) for row in range(grid.state_size)]))\n",
    "print(sauc3)\n",
    "msesave3 = mse3"
   ]
  },
  {
   "cell_type": "code",
   "execution_count": null,
   "metadata": {},
   "outputs": [],
   "source": [
    "opt_pol3"
   ]
  },
  {
   "cell_type": "code",
   "execution_count": null,
   "metadata": {},
   "outputs": [],
   "source": [
    "plt.plot(mse3)"
   ]
  },
  {
   "cell_type": "code",
   "execution_count": null,
   "metadata": {},
   "outputs": [],
   "source": [
    "plt.scatter(learning3,mse3)"
   ]
  },
  {
   "cell_type": "code",
   "execution_count": null,
   "metadata": {},
   "outputs": [],
   "source": [
    "repeats = 1000\n",
    "episodes = 2000\n",
    "acc3 = np.zeros((repeats,episodes))\n",
    "for i in range(repeats):\n",
    "    Q3,pol3,opt_pol3,learning3,mse3,sauc3 = grid.mc_iterative(epsilon = 1,discount = 0.2,episodes = episodes)\n",
    "    acc3[i,:] = np.array(learning3)\n",
    "acc3"
   ]
  },
  {
   "cell_type": "code",
   "execution_count": null,
   "metadata": {},
   "outputs": [],
   "source": [
    "plt.plot(np.mean(acc3,axis = 0))"
   ]
  },
  {
   "cell_type": "code",
   "execution_count": null,
   "metadata": {},
   "outputs": [],
   "source": [
    "plt.plot(np.std(acc3,axis = 0))"
   ]
  },
  {
   "cell_type": "markdown",
   "metadata": {},
   "source": [
    "## Question 4"
   ]
  },
  {
   "cell_type": "code",
   "execution_count": null,
   "metadata": {},
   "outputs": [],
   "source": [
    "Q4,pol4,opt_pol4,learning4,mse4,sauc4 = grid.SARSA_Control(epsilon = 1,discount = 0.2,episodes = 100000)\n",
    "V4 = np.sum(np.multiply(opt_pol4,Q4),axis = 1)\n",
    "grid.draw_value(V4)\n",
    "grid.draw_deterministic_policy(np.array([np.argmax(opt_pol4[row,:]) for row in range(grid.state_size)]))\n",
    "print(sauc4)\n",
    "msesave4 = mse4"
   ]
  },
  {
   "cell_type": "code",
   "execution_count": null,
   "metadata": {},
   "outputs": [],
   "source": [
    "plt.plot(mse4)"
   ]
  },
  {
   "cell_type": "code",
   "execution_count": null,
   "metadata": {},
   "outputs": [],
   "source": [
    "plt.scatter(learning4,mse4)"
   ]
  },
  {
   "cell_type": "code",
   "execution_count": null,
   "metadata": {},
   "outputs": [],
   "source": [
    "repeats = 1000\n",
    "episodes = 2000\n",
    "acc4 = np.zeros((repeats,episodes))\n",
    "for i in range(repeats):\n",
    "    Q4,pol4,opt_pol4,learning4,mse4,sauc4 = grid.SARSA_Control(discount = 0.2,epsilon = 1,episodes = episodes)\n",
    "    acc4[i,:] = np.array(learning4)\n",
    "acc4"
   ]
  },
  {
   "cell_type": "code",
   "execution_count": null,
   "metadata": {},
   "outputs": [],
   "source": [
    "plt.plot(np.mean(acc4,axis = 0))"
   ]
  },
  {
   "cell_type": "code",
   "execution_count": null,
   "metadata": {},
   "outputs": [],
   "source": [
    "plt.plot(np.std(acc4,axis = 0))"
   ]
  },
  {
   "cell_type": "code",
   "execution_count": null,
   "metadata": {},
   "outputs": [],
   "source": [
    "#Checking p gamma relationship:"
   ]
  },
  {
   "cell_type": "markdown",
   "metadata": {},
   "source": [
    "### Comparison of learners plot"
   ]
  },
  {
   "cell_type": "code",
   "execution_count": null,
   "metadata": {},
   "outputs": [],
   "source": [
    "plt.plot(msesave3[:1000],label = 'MC')\n",
    "plt.plot(msesave4[:1000],label = 'TD')\n",
    "plt.xlabel(\"episodes\")\n",
    "plt.ylabel(\"RMSE\")\n",
    "plt.legend()\n",
    "plt.show()"
   ]
  },
  {
   "cell_type": "code",
   "execution_count": null,
   "metadata": {},
   "outputs": [],
   "source": [
    "mse3"
   ]
  }
 ],
 "metadata": {
  "kernelspec": {
   "display_name": "Python 3",
   "language": "python",
   "name": "python3"
  },
  "language_info": {
   "codemirror_mode": {
    "name": "ipython",
    "version": 3
   },
   "file_extension": ".py",
   "mimetype": "text/x-python",
   "name": "python",
   "nbconvert_exporter": "python",
   "pygments_lexer": "ipython3",
   "version": "3.8.5"
  }
 },
 "nbformat": 4,
 "nbformat_minor": 4
}
